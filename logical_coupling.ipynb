{
 "cells": [
  {
   "cell_type": "code",
   "execution_count": 42,
   "metadata": {},
   "outputs": [],
   "source": [
    "import numpy as np\n",
    "file = './commits.txt'"
   ]
  },
  {
   "cell_type": "code",
   "execution_count": 61,
   "metadata": {},
   "outputs": [
    {
     "name": "stdout",
     "output_type": "stream",
     "text": [
      "[[ 0.  1.  0. ...  0.  0.  0.]\n",
      " [ 1.  0. 16. ...  0.  0.  0.]\n",
      " [ 0. 16.  0. ...  0.  0.  0.]\n",
      " ...\n",
      " [ 0.  0.  0. ...  0.  1.  0.]\n",
      " [ 0.  0.  0. ...  1.  0.  0.]\n",
      " [ 0.  0.  0. ...  0.  0.  0.]]\n",
      "(array([435, 450]), array([450, 435]))\n",
      "58.0\n",
      "12.0/apache/Dockerfile 12.0/fpm/Dockerfile\n"
     ]
    }
   ],
   "source": [
    "file_list_for_all_commits = [] #array of file_list arrays\n",
    "file_list = [] #of a single commit\n",
    "all_files = [] #every file that ever appeared in all commits\n",
    "\n",
    "with open(file) as f:\n",
    "    \n",
    "    while(1):\n",
    "        #read line\n",
    "        line = f.readline()\n",
    "        \n",
    "        #eof, add last commit to array\n",
    "        if not line:\n",
    "            file_list_for_all_commits.append(file_list)\n",
    "            break\n",
    "        \n",
    "        #git log formatting allows to separate commits by an empty new line\n",
    "        if line == '\\n':\n",
    "            file_list_for_all_commits.append(file_list)\n",
    "            continue\n",
    "            \n",
    "        #removes \\n from file names\n",
    "        line = line.rstrip('\\n')\n",
    "        \n",
    "        #if it is a new commit, clean file list \n",
    "        if(line == '###NEW_COMMIT###'):\n",
    "            file_list = []\n",
    "            continue\n",
    "\n",
    "        #it's a file! separeted by commmit there is no duplicates\n",
    "        file_list.append(line)\n",
    "        \n",
    "        #listing all files\n",
    "        if line not in all_files:\n",
    "            all_files.append(line)\n",
    "    \n",
    "    #graph\n",
    "    logical_coupling = np.zeros((len(all_files), (len(all_files))))\n",
    "    \n",
    "    #fills graph with how many times each two files appear together\n",
    "    for commit in file_list_for_all_commits:\n",
    "        for file1 in commit:\n",
    "            for file2 in commit:\n",
    "                if(file1 == file2):\n",
    "                    continue\n",
    "                logical_coupling[all_files.index(file1)][all_files.index(file2)] += 1\n",
    "    \n",
    "    #ill start answering questions here but not now\n",
    "    maxi = np.amax(logical_coupling)\n",
    "    location = np.where(logical_coupling == np.amax(logical_coupling))\n",
    "    print(location)\n",
    "    print(maxi)\n",
    "    \n",
    "    print(all_files[435], all_files[450])\n",
    "\n",
    "\n",
    "\n",
    "    \n",
    "    \n",
    "        "
   ]
  }
 ],
 "metadata": {
  "kernelspec": {
   "display_name": "Python 3",
   "language": "python",
   "name": "python3"
  },
  "language_info": {
   "codemirror_mode": {
    "name": "ipython",
    "version": 3
   },
   "file_extension": ".py",
   "mimetype": "text/x-python",
   "name": "python",
   "nbconvert_exporter": "python",
   "pygments_lexer": "ipython3",
   "version": "3.7.4"
  }
 },
 "nbformat": 4,
 "nbformat_minor": 2
}
