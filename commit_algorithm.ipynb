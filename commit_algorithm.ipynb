{
 "cells": [
  {
   "cell_type": "code",
   "execution_count": 73,
   "metadata": {},
   "outputs": [],
   "source": [
    "import re"
   ]
  },
  {
   "cell_type": "code",
   "execution_count": 81,
   "metadata": {},
   "outputs": [],
   "source": [
    "file = 'docker/commits.txt'"
   ]
  },
  {
   "cell_type": "markdown",
   "metadata": {},
   "source": [
    "```\n",
    "git log --pretty=format:\"###NEW_COMMIT###\" --name-only > commits.txt\n",
    "\n",
    "```"
   ]
  },
  {
   "cell_type": "code",
   "execution_count": null,
   "metadata": {},
   "outputs": [],
   "source": [
    "def file_per_commit(dt):\n",
    "    \n",
    "    "
   ]
  },
  {
   "cell_type": "markdown",
   "metadata": {},
   "source": [
    "## total de modificações por arquivo"
   ]
  },
  {
   "cell_type": "code",
   "execution_count": 107,
   "metadata": {},
   "outputs": [],
   "source": [
    "all_files_edited = {}\n",
    "commits_total = 0\n",
    "\n",
    "with open(file) as f:\n",
    "    line = f.readline()\n",
    "    while line:\n",
    "        if(re.search('###NEW_COMMIT###', line)):\n",
    "            commits_total += 1   \n",
    "            line = f.readline()\n",
    "            \n",
    "            if line in all_files_edited:\n",
    "                all_files_edited[line] += 1\n",
    "            else:\n",
    "                all_files_edited[line] = 1\n",
    "        line = f.readline()\n",
    "    "
   ]
  },
  {
   "cell_type": "code",
   "execution_count": 103,
   "metadata": {},
   "outputs": [
    {
     "data": {
      "text/plain": [
       "515"
      ]
     },
     "execution_count": 103,
     "metadata": {},
     "output_type": "execute_result"
    }
   ],
   "source": [
    "commits_total"
   ]
  },
  {
   "cell_type": "code",
   "execution_count": 117,
   "metadata": {},
   "outputs": [
    {
     "data": {
      "text/plain": [
       "[(1, '.config/apache-pretty-urls.config.php\\n'),\n",
       " (1, '.config/apcu.config.php\\n'),\n",
       " (1, '.config/apps.config.php\\n'),\n",
       " (1, '.config/smtp.config.php\\n'),\n",
       " (1, '.examples/Dockerfile.cron\\n'),\n",
       " (1, '.examples/docker-compose.yml\\n'),\n",
       " (1,\n",
       "  '.examples/docker-compose/insecure/mariadb-cron-redis/apache/app/redis.config.php\\n'),\n",
       " (1,\n",
       "  '.examples/docker-compose/insecure/mariadb-cron-redis/fpm/app/Dockerfile\\n'),\n",
       " (1,\n",
       "  '.examples/docker-compose/insecure/mariadb-cron-redis/fpm/docker-compose.yml\\n'),\n",
       " (1,\n",
       "  '.examples/docker-compose/insecure/mariadb-with-cron/apache/app/Dockerfile\\n'),\n",
       " (1,\n",
       "  '.examples/docker-compose/insecure/mariadb-with-cron/apache/docker-compose.yml\\n'),\n",
       " (1, '.examples/docker-compose/insecure/postgres/apache/db.env\\n'),\n",
       " (1,\n",
       "  '.examples/docker-compose/with-nginx-proxy-self-signed-ssl/mariadb/fpm/proxy/uploadsize.conf\\n'),\n",
       " (1,\n",
       "  '.examples/docker-compose/with-nginx-proxy-self-signed-ssl/mariadb/fpm/web/nginx.conf\\n'),\n",
       " (1, '.examples/docker-compose/with-nginx-proxy/apache/app/Dockerfile\\n'),\n",
       " (1, '.examples/docker-compose/with-nginx-proxy/apache/app/redis.php\\n'),\n",
       " (1, '.examples/docker-compose/with-nginx-proxy/apache/caching.php\\n'),\n",
       " (1,\n",
       "  '.examples/docker-compose/with-nginx-proxy/mariadb-cron-redis/fpm/web/nginx.conf\\n'),\n",
       " (1,\n",
       "  '.examples/docker-compose/with-nginx-proxy/mariadb/apache/docker-compose.yml\\n'),\n",
       " (1,\n",
       "  '.examples/docker-compose/with-nginx-proxy/postgres/fpm/docker-compose.yml\\n'),\n",
       " (1, '.examples/dockerfiles/cron/fpm-alpine/Dockerfile\\n'),\n",
       " (1, '.examples/dockerfiles/cron/fpm/Dockerfile\\n'),\n",
       " (1, '.examples/dockerfiles/full/apache/supervisord.conf\\n'),\n",
       " (1, '.travis/test-example-dockerfiles.sh\\n'),\n",
       " (1, '11.0/apache/cron.sh\\n'),\n",
       " (1, '13.0/fpm-alpine/Dockerfile\\n'),\n",
       " (1, '14.0-rc/fpm-alpine/Dockerfile\\n'),\n",
       " (1, '14.0/fpm-alpine/Dockerfile\\n'),\n",
       " (1, '16.0-rc/apache/Dockerfile\\n'),\n",
       " (1, '17.0-rc/apache/Dockerfile\\n'),\n",
       " (1, '17.0/apache/Dockerfile\\n'),\n",
       " (1, 'CODE_OF_CONDUCT.md\\n'),\n",
       " (1, 'Dockerfile-php7.template\\n'),\n",
       " (1, 'LICENSE.md\\n'),\n",
       " (1, 'docker-cron.sh\\n'),\n",
       " (1, 'examples/Dockerfile.cron\\n'),\n",
       " (1, 'examples/supervisord.conf\\n'),\n",
       " (1, 'logo.png\\n'),\n",
       " (1, 'logo.svg\\n'),\n",
       " (2,\n",
       "  '.examples/docker-compose/insecure/mariadb-cron-redis/apache/db/Dockerfile\\n'),\n",
       " (2,\n",
       "  '.examples/docker-compose/with-nginx-proxy-self-signed-ssl/mariadb/fpm/db.env\\n'),\n",
       " (2,\n",
       "  '.examples/docker-compose/with-nginx-proxy-self-signed-ssl/mariadb/fpm/docker-compose.yml\\n'),\n",
       " (2,\n",
       "  '.examples/docker-compose/with-nginx-proxy/mariadb-cron-redis/apache/docker-compose.yml\\n'),\n",
       " (2, '.examples/dockerfiles/cron/apache/Dockerfile\\n'),\n",
       " (2, '.examples/nginx.conf\\n'),\n",
       " (2, '12.0-rc/fpm-alpine/Dockerfile\\n'),\n",
       " (2, '13.0-beta/apache/Dockerfile\\n'),\n",
       " (2, '13.0/apache/config/redis.config.php\\n'),\n",
       " (2, '13.0/apache/entrypoint.sh\\n'),\n",
       " (2, '16.0-beta/apache/Dockerfile\\n'),\n",
       " (2, '9.0/apache/Dockerfile\\n'),\n",
       " (2, 'stack.yml\\n'),\n",
       " (3, '.examples/Readme.md\\n'),\n",
       " (3,\n",
       "  '.examples/docker-compose/insecure/mariadb-cron-redis/apache/app/Dockerfile\\n'),\n",
       " (3, '14.0-beta/apache/Dockerfile\\n'),\n",
       " (3, '14.0/apache/entrypoint.sh\\n'),\n",
       " (3, '17.0-beta/apache/Dockerfile\\n'),\n",
       " (4, '15.0-beta/apache/Dockerfile\\n'),\n",
       " (4, 'Dockerfile\\n'),\n",
       " (5, '.config/autoconfig.php\\n'),\n",
       " (5,\n",
       "  '.examples/docker-compose/insecure/mariadb-cron-redis/apache/docker-compose.yml\\n'),\n",
       " (5, '11.0/fpm-alpine/Dockerfile\\n'),\n",
       " (5, 'docker-entrypoint.sh\\n'),\n",
       " (6, '.config/redis.config.php\\n'),\n",
       " (6,\n",
       "  '.examples/docker-compose/insecure/mariadb-cron-redis/fpm/web/nginx.conf\\n'),\n",
       " (7, '15.0-rc/apache/Dockerfile\\n'),\n",
       " (9, '.examples/dockerfiles/full/apache/Dockerfile\\n'),\n",
       " (9, '10.0/apache/docker-entrypoint.sh\\n'),\n",
       " (10, '14.0-rc/apache/Dockerfile\\n'),\n",
       " (12, '12.0-rc/apache/Dockerfile\\n'),\n",
       " (12, '15.0/apache/Dockerfile\\n'),\n",
       " (13, '12.0/apache/entrypoint.sh\\n'),\n",
       " (13, '13.0-rc/apache/Dockerfile\\n'),\n",
       " (15, '13.0/apache/Dockerfile\\n'),\n",
       " (15, 'Dockerfile-alpine.template\\n'),\n",
       " (15, 'update.sh\\n'),\n",
       " (16, '14.0/apache/Dockerfile\\n'),\n",
       " (20, '10.0/apache/Dockerfile\\n'),\n",
       " (21, '.examples/README.md\\n'),\n",
       " (21, '12.0/apache/Dockerfile\\n'),\n",
       " (27, '11.0/apache/Dockerfile\\n'),\n",
       " (36, 'generate-stackbrew-library.sh\\n'),\n",
       " (45, 'README.md\\n'),\n",
       " (79, '.travis.yml\\n')]"
      ]
     },
     "execution_count": 117,
     "metadata": {},
     "output_type": "execute_result"
    }
   ],
   "source": [
    "sorted((value, key) for (key,value) in all_files_edited.items())\n",
    "\n",
    "# sorted(all_files_edited.values(), reverse=True)"
   ]
  },
  {
   "cell_type": "code",
   "execution_count": null,
   "metadata": {},
   "outputs": [],
   "source": [
    "files_per_commit = {}\n",
    "\n",
    "with open(file) as f:\n",
    "    line = f.readline()\n",
    "    while line:\n",
    "        if(re.search('###NEW_COMMIT###', line)):\n",
    "            line = f.readline()\n",
    "            \n",
    "            if line in files_per_commit:\n",
    "                files_per_commit[line] += 1\n",
    "            else:\n",
    "                files_per_commit[line] = 1\n",
    "            \n",
    "#             [file1] [file2] [edited together]\n",
    "            \n",
    "        line = f.readline()\n",
    "    "
   ]
  }
 ],
 "metadata": {
  "kernelspec": {
   "display_name": "Python 3",
   "language": "python",
   "name": "python3"
  },
  "language_info": {
   "codemirror_mode": {
    "name": "ipython",
    "version": 3
   },
   "file_extension": ".py",
   "mimetype": "text/x-python",
   "name": "python",
   "nbconvert_exporter": "python",
   "pygments_lexer": "ipython3",
   "version": "3.7.3"
  }
 },
 "nbformat": 4,
 "nbformat_minor": 2
}
